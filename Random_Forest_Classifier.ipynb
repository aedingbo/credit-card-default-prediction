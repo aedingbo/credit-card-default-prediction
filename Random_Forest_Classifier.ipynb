{
 "cells": [
  {
   "cell_type": "code",
   "execution_count": 1,
   "id": "18f189ca-7a86-48dd-a86c-90c9c59834d3",
   "metadata": {},
   "outputs": [],
   "source": [
    "import pandas as pd\n",
    "import matplotlib.pyplot as plt\n",
    "import numpy as np\n",
    "%matplotlib inline"
   ]
  },
  {
   "cell_type": "code",
   "execution_count": 6,
   "id": "0aac54a0-ebaa-48d5-a727-de260bbeb1eb",
   "metadata": {},
   "outputs": [],
   "source": [
    "df = pd.read_excel(\"credit_card_data.xlsx\", header=1)\n",
    "df.rename(columns={'PAY_0': 'PAY_1'}, inplace=True) # Renaming mis-named column"
   ]
  },
  {
   "cell_type": "code",
   "execution_count": 10,
   "id": "3376f1f6-1c70-47c6-8571-cc8ae40d5cb0",
   "metadata": {},
   "outputs": [
    {
     "data": {
      "text/html": [
       "<div>\n",
       "<style scoped>\n",
       "    .dataframe tbody tr th:only-of-type {\n",
       "        vertical-align: middle;\n",
       "    }\n",
       "\n",
       "    .dataframe tbody tr th {\n",
       "        vertical-align: top;\n",
       "    }\n",
       "\n",
       "    .dataframe thead th {\n",
       "        text-align: right;\n",
       "    }\n",
       "</style>\n",
       "<table border=\"1\" class=\"dataframe\">\n",
       "  <thead>\n",
       "    <tr style=\"text-align: right;\">\n",
       "      <th></th>\n",
       "      <th>ID</th>\n",
       "      <th>LIMIT_BAL</th>\n",
       "      <th>SEX</th>\n",
       "      <th>EDUCATION</th>\n",
       "      <th>MARRIAGE</th>\n",
       "      <th>AGE</th>\n",
       "      <th>PAY_1</th>\n",
       "      <th>PAY_2</th>\n",
       "      <th>PAY_3</th>\n",
       "      <th>PAY_4</th>\n",
       "      <th>...</th>\n",
       "      <th>BILL_AMT4</th>\n",
       "      <th>BILL_AMT5</th>\n",
       "      <th>BILL_AMT6</th>\n",
       "      <th>PAY_AMT1</th>\n",
       "      <th>PAY_AMT2</th>\n",
       "      <th>PAY_AMT3</th>\n",
       "      <th>PAY_AMT4</th>\n",
       "      <th>PAY_AMT5</th>\n",
       "      <th>PAY_AMT6</th>\n",
       "      <th>default payment next month</th>\n",
       "    </tr>\n",
       "  </thead>\n",
       "  <tbody>\n",
       "    <tr>\n",
       "      <th>0</th>\n",
       "      <td>1</td>\n",
       "      <td>20000</td>\n",
       "      <td>2</td>\n",
       "      <td>2</td>\n",
       "      <td>1</td>\n",
       "      <td>24</td>\n",
       "      <td>2</td>\n",
       "      <td>2</td>\n",
       "      <td>-1</td>\n",
       "      <td>-1</td>\n",
       "      <td>...</td>\n",
       "      <td>0</td>\n",
       "      <td>0</td>\n",
       "      <td>0</td>\n",
       "      <td>0</td>\n",
       "      <td>689</td>\n",
       "      <td>0</td>\n",
       "      <td>0</td>\n",
       "      <td>0</td>\n",
       "      <td>0</td>\n",
       "      <td>1</td>\n",
       "    </tr>\n",
       "    <tr>\n",
       "      <th>1</th>\n",
       "      <td>2</td>\n",
       "      <td>120000</td>\n",
       "      <td>2</td>\n",
       "      <td>2</td>\n",
       "      <td>2</td>\n",
       "      <td>26</td>\n",
       "      <td>-1</td>\n",
       "      <td>2</td>\n",
       "      <td>0</td>\n",
       "      <td>0</td>\n",
       "      <td>...</td>\n",
       "      <td>3272</td>\n",
       "      <td>3455</td>\n",
       "      <td>3261</td>\n",
       "      <td>0</td>\n",
       "      <td>1000</td>\n",
       "      <td>1000</td>\n",
       "      <td>1000</td>\n",
       "      <td>0</td>\n",
       "      <td>2000</td>\n",
       "      <td>1</td>\n",
       "    </tr>\n",
       "    <tr>\n",
       "      <th>2</th>\n",
       "      <td>3</td>\n",
       "      <td>90000</td>\n",
       "      <td>2</td>\n",
       "      <td>2</td>\n",
       "      <td>2</td>\n",
       "      <td>34</td>\n",
       "      <td>0</td>\n",
       "      <td>0</td>\n",
       "      <td>0</td>\n",
       "      <td>0</td>\n",
       "      <td>...</td>\n",
       "      <td>14331</td>\n",
       "      <td>14948</td>\n",
       "      <td>15549</td>\n",
       "      <td>1518</td>\n",
       "      <td>1500</td>\n",
       "      <td>1000</td>\n",
       "      <td>1000</td>\n",
       "      <td>1000</td>\n",
       "      <td>5000</td>\n",
       "      <td>0</td>\n",
       "    </tr>\n",
       "    <tr>\n",
       "      <th>3</th>\n",
       "      <td>4</td>\n",
       "      <td>50000</td>\n",
       "      <td>2</td>\n",
       "      <td>2</td>\n",
       "      <td>1</td>\n",
       "      <td>37</td>\n",
       "      <td>0</td>\n",
       "      <td>0</td>\n",
       "      <td>0</td>\n",
       "      <td>0</td>\n",
       "      <td>...</td>\n",
       "      <td>28314</td>\n",
       "      <td>28959</td>\n",
       "      <td>29547</td>\n",
       "      <td>2000</td>\n",
       "      <td>2019</td>\n",
       "      <td>1200</td>\n",
       "      <td>1100</td>\n",
       "      <td>1069</td>\n",
       "      <td>1000</td>\n",
       "      <td>0</td>\n",
       "    </tr>\n",
       "    <tr>\n",
       "      <th>4</th>\n",
       "      <td>5</td>\n",
       "      <td>50000</td>\n",
       "      <td>1</td>\n",
       "      <td>2</td>\n",
       "      <td>1</td>\n",
       "      <td>57</td>\n",
       "      <td>-1</td>\n",
       "      <td>0</td>\n",
       "      <td>-1</td>\n",
       "      <td>0</td>\n",
       "      <td>...</td>\n",
       "      <td>20940</td>\n",
       "      <td>19146</td>\n",
       "      <td>19131</td>\n",
       "      <td>2000</td>\n",
       "      <td>36681</td>\n",
       "      <td>10000</td>\n",
       "      <td>9000</td>\n",
       "      <td>689</td>\n",
       "      <td>679</td>\n",
       "      <td>0</td>\n",
       "    </tr>\n",
       "  </tbody>\n",
       "</table>\n",
       "<p>5 rows × 25 columns</p>\n",
       "</div>"
      ],
      "text/plain": [
       "   ID  LIMIT_BAL  SEX  EDUCATION  MARRIAGE  AGE  PAY_1  PAY_2  PAY_3  PAY_4  \\\n",
       "0   1      20000    2          2         1   24      2      2     -1     -1   \n",
       "1   2     120000    2          2         2   26     -1      2      0      0   \n",
       "2   3      90000    2          2         2   34      0      0      0      0   \n",
       "3   4      50000    2          2         1   37      0      0      0      0   \n",
       "4   5      50000    1          2         1   57     -1      0     -1      0   \n",
       "\n",
       "   ...  BILL_AMT4  BILL_AMT5  BILL_AMT6  PAY_AMT1  PAY_AMT2  PAY_AMT3  \\\n",
       "0  ...          0          0          0         0       689         0   \n",
       "1  ...       3272       3455       3261         0      1000      1000   \n",
       "2  ...      14331      14948      15549      1518      1500      1000   \n",
       "3  ...      28314      28959      29547      2000      2019      1200   \n",
       "4  ...      20940      19146      19131      2000     36681     10000   \n",
       "\n",
       "   PAY_AMT4  PAY_AMT5  PAY_AMT6  default payment next month  \n",
       "0         0         0         0                           1  \n",
       "1      1000         0      2000                           1  \n",
       "2      1000      1000      5000                           0  \n",
       "3      1100      1069      1000                           0  \n",
       "4      9000       689       679                           0  \n",
       "\n",
       "[5 rows x 25 columns]"
      ]
     },
     "execution_count": 10,
     "metadata": {},
     "output_type": "execute_result"
    }
   ],
   "source": [
    "df.head()"
   ]
  },
  {
   "cell_type": "code",
   "execution_count": 14,
   "id": "e0c5cca5-f6a6-4f8a-bbc3-889176c767ae",
   "metadata": {},
   "outputs": [
    {
     "name": "stdout",
     "output_type": "stream",
     "text": [
      "Checking for null values:\n",
      "<class 'pandas.core.frame.DataFrame'>\n",
      "RangeIndex: 30000 entries, 0 to 29999\n",
      "Data columns (total 25 columns):\n",
      " #   Column                      Non-Null Count  Dtype\n",
      "---  ------                      --------------  -----\n",
      " 0   ID                          30000 non-null  int64\n",
      " 1   LIMIT_BAL                   30000 non-null  int64\n",
      " 2   SEX                         30000 non-null  int64\n",
      " 3   EDUCATION                   30000 non-null  int64\n",
      " 4   MARRIAGE                    30000 non-null  int64\n",
      " 5   AGE                         30000 non-null  int64\n",
      " 6   PAY_1                       30000 non-null  int64\n",
      " 7   PAY_2                       30000 non-null  int64\n",
      " 8   PAY_3                       30000 non-null  int64\n",
      " 9   PAY_4                       30000 non-null  int64\n",
      " 10  PAY_5                       30000 non-null  int64\n",
      " 11  PAY_6                       30000 non-null  int64\n",
      " 12  BILL_AMT1                   30000 non-null  int64\n",
      " 13  BILL_AMT2                   30000 non-null  int64\n",
      " 14  BILL_AMT3                   30000 non-null  int64\n",
      " 15  BILL_AMT4                   30000 non-null  int64\n",
      " 16  BILL_AMT5                   30000 non-null  int64\n",
      " 17  BILL_AMT6                   30000 non-null  int64\n",
      " 18  PAY_AMT1                    30000 non-null  int64\n",
      " 19  PAY_AMT2                    30000 non-null  int64\n",
      " 20  PAY_AMT3                    30000 non-null  int64\n",
      " 21  PAY_AMT4                    30000 non-null  int64\n",
      " 22  PAY_AMT5                    30000 non-null  int64\n",
      " 23  PAY_AMT6                    30000 non-null  int64\n",
      " 24  default payment next month  30000 non-null  int64\n",
      "dtypes: int64(25)\n",
      "memory usage: 5.7 MB\n"
     ]
    }
   ],
   "source": [
    "#check for null values using df.info()\n",
    "print(\"Checking for null values:\")\n",
    "df.info()"
   ]
  },
  {
   "cell_type": "code",
   "execution_count": 16,
   "id": "1795c40f-f4a8-46c0-bf8c-8ade9bcdfb41",
   "metadata": {},
   "outputs": [
    {
     "name": "stdout",
     "output_type": "stream",
     "text": [
      "Distribution of the 'default payment next month' column:\n",
      "default payment next month\n",
      "0    23364\n",
      "1     6636\n",
      "Name: count, dtype: int64\n"
     ]
    }
   ],
   "source": [
    "# define the target variable\n",
    "target = 'default payment next month'\n",
    "\n",
    "print(f\"Distribution of the '{target}' column:\")\n",
    "print(df[target].value_counts())"
   ]
  },
  {
   "cell_type": "code",
   "execution_count": 18,
   "id": "f1b2274b-252b-42e5-bdc7-7037e63aa7e8",
   "metadata": {},
   "outputs": [],
   "source": [
    "#The dataset is impalanced. There are about 3.5 times as many non-defaults (23364) as defaults (6636)."
   ]
  },
  {
   "cell_type": "code",
   "execution_count": null,
   "id": "850494ed-97ae-4843-8809-0c989b072c3a",
   "metadata": {},
   "outputs": [],
   "source": [
    "#Some features will be investigated using the 'value_counts()' function"
   ]
  },
  {
   "cell_type": "code",
   "execution_count": 20,
   "id": "bbcdcdff-6ff2-4806-a82f-6cd1dbdf317b",
   "metadata": {},
   "outputs": [
    {
     "data": {
      "text/plain": [
       "EDUCATION\n",
       "2    14030\n",
       "1    10585\n",
       "3     4917\n",
       "5      280\n",
       "4      123\n",
       "6       51\n",
       "0       14\n",
       "Name: count, dtype: int64"
      ]
     },
     "execution_count": 20,
     "metadata": {},
     "output_type": "execute_result"
    }
   ],
   "source": [
    "#EDUCATION: (1 = graduate school, 2 = university, 3 = high school, 4 = others)\n",
    "df['EDUCATION'].value_counts()"
   ]
  },
  {
   "cell_type": "code",
   "execution_count": 22,
   "id": "33bdbc1f-7b91-454b-a0e6-efc01d622978",
   "metadata": {},
   "outputs": [],
   "source": [
    "#The data contains values 0, 5, and 6, which are undocumented. We will assume they have meaning and keep them."
   ]
  },
  {
   "cell_type": "code",
   "execution_count": 24,
   "id": "87faccdf-efdb-481a-a2df-fca9ff155dce",
   "metadata": {},
   "outputs": [
    {
     "data": {
      "text/plain": [
       "MARRIAGE\n",
       "2    15964\n",
       "1    13659\n",
       "3      323\n",
       "0       54\n",
       "Name: count, dtype: int64"
      ]
     },
     "execution_count": 24,
     "metadata": {},
     "output_type": "execute_result"
    }
   ],
   "source": [
    "#Marriage: (1 = married; 2 = single; 3 = others)\n",
    "df['MARRIAGE'].value_counts()"
   ]
  },
  {
   "cell_type": "code",
   "execution_count": 26,
   "id": "65b7c628-6945-4962-aec5-d8136432fc1b",
   "metadata": {},
   "outputs": [],
   "source": [
    "#The value 0 also appears in the data. We will assume that 0 is functionally the 'null' value and keep it in the dataset for now."
   ]
  },
  {
   "cell_type": "code",
   "execution_count": 30,
   "id": "1bcce5c7-77f4-4d66-9e32-6bf4c783c4ea",
   "metadata": {},
   "outputs": [
    {
     "data": {
      "text/plain": [
       "SEX\n",
       "2    18112\n",
       "1    11888\n",
       "Name: count, dtype: int64"
      ]
     },
     "execution_count": 30,
     "metadata": {},
     "output_type": "execute_result"
    }
   ],
   "source": [
    "#Sex: (1 = male, 2 = female)\n",
    "df['SEX'].value_counts()"
   ]
  },
  {
   "cell_type": "code",
   "execution_count": 32,
   "id": "3c59b161-c2d0-4e18-ad2c-c6cc3f021396",
   "metadata": {},
   "outputs": [],
   "source": [
    "#There is a slight imbalance, with females (2) making up just over 60% of the dataset."
   ]
  },
  {
   "cell_type": "code",
   "execution_count": 36,
   "id": "a4ac4ad7-5833-4c8d-b06d-a9b3ecad1df2",
   "metadata": {},
   "outputs": [
    {
     "data": {
      "text/plain": [
       "PAY_1\n",
       " 0    14737\n",
       "-1     5686\n",
       " 1     3688\n",
       "-2     2759\n",
       " 2     2667\n",
       " 3      322\n",
       " 4       76\n",
       " 5       26\n",
       " 8       19\n",
       " 6       11\n",
       " 7        9\n",
       "Name: count, dtype: int64"
      ]
     },
     "execution_count": 36,
     "metadata": {},
     "output_type": "execute_result"
    }
   ],
   "source": [
    "# The PAY_ columns represent the repayment status for the last six months.\n",
    "# These are likely the most important features for predicting future default.\n",
    "# We will start by analyzing PAY_1, the most recent payment status.\n",
    "\n",
    "df['PAY_1'].value_counts()"
   ]
  },
  {
   "cell_type": "code",
   "execution_count": 38,
   "id": "04fe81c2-4449-434d-8662-a74e11e96e91",
   "metadata": {},
   "outputs": [],
   "source": [
    "# NOTE on PAY_1 values:\n",
    "# This column represents the repayment status for the most recent month (Sept 2005).\n",
    "# According to the data dictionary, the values mean:\n",
    "# -2: No consumption\n",
    "# -1: Paid in full\n",
    "#  0: Paid the minimum due\n",
    "#  1: Payment delay for one month\n",
    "#  2: Payment delay for two months\n",
    "#  ...and so on up to 8 months."
   ]
  },
  {
   "cell_type": "code",
   "execution_count": 40,
   "id": "9824733b-ae90-45f2-a23e-2fe0a8ead6b5",
   "metadata": {},
   "outputs": [
    {
     "name": "stdout",
     "output_type": "stream",
     "text": [
      "    PAY_1  BILL_AMT1  PAY_AMT1\n",
      "9      -2          0         0\n",
      "23     -2       5512     19428\n",
      "33     -2      10929      4152\n",
      "34     -2      13709      5006\n",
      "45     -2          0         0\n",
      "52     -2      13465      7875\n",
      "55     -2       1905      3640\n",
      "65     -2     152519         0 \n",
      "\n",
      "    PAY_1  BILL_AMT1  PAY_AMT1\n",
      "1      -1       2682         0\n",
      "4      -1       8617      2000\n",
      "11     -1      12261     21818\n",
      "12     -1      12137      1000\n",
      "21     -1        316       316\n",
      "28     -1        650      3415\n",
      "30     -1      16646     17270\n",
      "35     -1      30265       131 \n",
      "\n",
      "    PAY_1  BILL_AMT1  PAY_AMT1\n",
      "2       0      29239      1518\n",
      "3       0      46990      2000\n",
      "5       0      64400      2500\n",
      "6       0     367965     55000\n",
      "7       0      11876       380\n",
      "8       0      11285      3329\n",
      "10      0      11073      2306\n",
      "14      0      70887      3000 \n",
      "\n",
      "    PAY_1  BILL_AMT1  PAY_AMT1\n",
      "13      1      65802      3200\n",
      "15      1      50614         0\n",
      "18      1          0         0\n",
      "19      1          0         0\n",
      "26      1       -109         0\n",
      "38      1          0       780\n",
      "50      1      37042         0\n",
      "53      1      41402      1300 \n",
      "\n",
      "    PAY_1  BILL_AMT1  PAY_AMT1\n",
      "0       2       3913         0\n",
      "22      2      41087      2007\n",
      "31      2      30518      1718\n",
      "54      2      46224      1600\n",
      "62      2      24987         0\n",
      "66      2       2097      2300\n",
      "67      2        300       300\n",
      "69      2      18565         0 \n",
      "\n",
      "      PAY_1  BILL_AMT1  PAY_AMT1\n",
      "649       8      21075         0\n",
      "749       8      37647         0\n",
      "831       8      24310         0\n",
      "981       8      34423         0\n",
      "2362      8      24348         0\n",
      "2916      8      43340         0\n",
      "4336      8     377779         0\n",
      "4387      8     112662         0 \n",
      "\n"
     ]
    }
   ],
   "source": [
    "# Investigate the relationship between 'Pay', 'Bill_amt', and 'Pay_amt'\n",
    "\n",
    "for i in [-2,-1,0,1,2,8]:\n",
    "    print(df[df['PAY_1']==i][['PAY_1', 'BILL_AMT1', 'PAY_AMT1']].head(8), \"\\n\")"
   ]
  },
  {
   "cell_type": "code",
   "execution_count": 46,
   "id": "f9fdc1d5-99e9-4c9b-8f62-973eceb333ca",
   "metadata": {},
   "outputs": [],
   "source": [
    "#The data is slightly confusing, so we are going to create historgrams.\n",
    "\n",
    "# Define function for creating histograms\n",
    "def pay_hist(df, cols, ymax):\n",
    "    plt.figure(figsize=(10,7))\n",
    "    for index, col in enumerate(cols):\n",
    "        plt.subplot(2,3, index +1)\n",
    "        plt.ylim(top=ymax)\n",
    "        plt.hist(df[col])\n",
    "        plt.title(col)\n",
    "        plt.tight_layout()\n",
    "\n",
    "# Create lists of column names for each variable type\n",
    "pay_cols = [\"PAY_\"+str(n) for n in range(1,7)]\n",
    "pay_amt_cols = [\"PAY_AMT\"+str(n) for n in range(1,7)]\n",
    "bill_amt_cols = [\"BILL_AMT\"+str(n) for n in range(1,7)]"
   ]
  },
  {
   "cell_type": "code",
   "execution_count": 48,
   "id": "26fbccc3-8a22-4507-bf13-3065222a5dbc",
   "metadata": {},
   "outputs": [
    {
     "data": {
      "image/png": "[encoded data removed]",
      "text/plain": [
       "<Figure size 1000x700 with 6 Axes>"
      ]
     },
     "metadata": {},
     "output_type": "display_data"
    }
   ],
   "source": [
    "# Use the function to plot the histograms for the PAY columns\n",
    "pay_hist(df, pay_cols, 20000)"
   ]
  },
  {
   "cell_type": "code",
   "execution_count": 50,
   "id": "d9b1ba72-5332-4287-a194-da6641a2238b",
   "metadata": {},
   "outputs": [],
   "source": [
    "#Note: 0 is the most common repayment status"
   ]
  },
  {
   "cell_type": "code",
   "execution_count": 52,
   "id": "00e97993-212c-48db-b58a-df0de3cc5881",
   "metadata": {},
   "outputs": [
    {
     "data": {
      "image/png": "[encoded data removed]",
      "text/plain": [
       "<Figure size 1000x700 with 6 Axes>"
      ]
     },
     "metadata": {},
     "output_type": "display_data"
    }
   ],
   "source": [
    "# Use the function to plot the histograms for the PAY_AMT columns\n",
    "pay_hist(df, pay_amt_cols, 20000)"
   ]
  },
  {
   "cell_type": "code",
   "execution_count": 54,
   "id": "eefb09d0-4084-46bb-aa82-2ab75da0fd76",
   "metadata": {},
   "outputs": [],
   "source": [
    "#Note:These plots show that the payment amount data is heavily right-skewed.\n",
    "# This means that most payments are small and clustered near zero, while\n",
    "# a few very large payments create a long tail to the right."
   ]
  },
  {
   "cell_type": "code",
   "execution_count": 58,
   "id": "039bb458-e67a-44c7-a951-bf32f054657a",
   "metadata": {},
   "outputs": [
    {
     "data": {
      "text/plain": [
       "<Axes: >"
      ]
     },
     "execution_count": 58,
     "metadata": {},
     "output_type": "execute_result"
    },
    {
     "data": {
      "image/png": "[encoded data removed]",
      "text/plain": [
       "<Figure size 640x480 with 1 Axes>"
      ]
     },
     "metadata": {},
     "output_type": "display_data"
    }
   ],
   "source": [
    "# NOTE: We need to confirm that the skew in the PAY_AMT1 histogram\n",
    "# is a true feature of the payment data, and not just caused by the large\n",
    "# number of zero-dollar payments (where no payment was made).\n",
    "#\n",
    "# To test this, we will create a temporary dataframe that excludes all\n",
    "# the PAY_AMT1 values of 0 and plot its histogram.\n",
    "# If it is still skewed, we know a log transformation will be needed\n",
    "# to better visualize the distribution of actual payments.\n",
    "\n",
    "# Create a temporary dataframe that excludes rows where PAY_AMT1 is 0\n",
    "df_no_0_pay_amt_1 = df[df[\"PAY_AMT1\"] != 0]\n",
    "\n",
    "# Plot the histogram of non-zero payments to confirm the skew is still present\n",
    "df_no_0_pay_amt_1[\"PAY_AMT1\"].hist()"
   ]
  },
  {
   "cell_type": "code",
   "execution_count": 63,
   "id": "c8629ac1-9740-4766-99be-d9838b4ccd29",
   "metadata": {},
   "outputs": [
    {
     "data": {
      "image/png": "[encoded data removed]",
      "text/plain": [
       "<Figure size 640x480 with 1 Axes>"
      ]
     },
     "metadata": {},
     "output_type": "display_data"
    }
   ],
   "source": [
    "#Note: The PAY_AMT1 data is still skewed even after removing zeros.\n",
    "# To better visualize the skewed distribution of actual payments, we apply a\n",
    "# base-10 log transformation (np.log10). This is applied only to the\n",
    "# non-zero payment amounts, as log10 is undefined for zero.\n",
    "\n",
    "# Create a new variable containing the log10 transformed data\n",
    "log_pay_amt1 = np.log10(df_no_0_pay_amt_1[\"PAY_AMT1\"])\n",
    "\n",
    "# Create a histogram of the transformed data\n",
    "plt.hist(log_pay_amt1)\n",
    "\n",
    "# Add a title to the plot\n",
    "plt.title(\"'Log10-Transformed values for 'PAY_AMT1' (Excluding 0s)\")\n",
    "plt.show() # Display the plot cleanly"
   ]
  },
  {
   "cell_type": "code",
   "execution_count": 67,
   "id": "44f9634b-c642-4fcc-86e1-7b68df20e977",
   "metadata": {},
   "outputs": [
    {
     "data": {
      "image/png": "[encoded data removed]",
      "text/plain": [
       "<Figure size 1000x700 with 6 Axes>"
      ]
     },
     "metadata": {},
     "output_type": "display_data"
    }
   ],
   "source": [
    "pay_hist(df, bill_amt_cols, 23000)"
   ]
  },
  {
   "cell_type": "code",
   "execution_count": 69,
   "id": "9f2ac704-1e99-46bd-bc7e-8eff74efc10e",
   "metadata": {},
   "outputs": [],
   "source": [
    "#Note: These plots visualize the distribution of the bill amount (BILL_AMT) columns.\n",
    "# As with the payment amounts, this data is also heavily right-skewed,\n",
    "# indicating that most customers have smaller balances while a few have very high ones."
   ]
  },
  {
   "cell_type": "code",
   "execution_count": 71,
   "id": "36e72738-debf-4bd8-a75c-ec6c127e2216",
   "metadata": {},
   "outputs": [],
   "source": [
    "#Note: Preprocessing- convert all features into a purely numerical format.\n",
    "# 1. Binary Encoding:\n",
    "#    - Definition: A technique for features with only two categories.\n",
    "#    - Action: We will map the 'SEX' column from (1, 2) to a binary (0, 1) format.\n",
    "# 2. One-Hot Encoding:\n",
    "#    - Definition: A technique for features with more than two categories. It\n",
    "#      converts the single column into multiple new binary (0/1) columns.\n",
    "#    - Action: We will apply this to 'EDUCATION' and 'MARRIAGE' to prevent the\n",
    "#      model from assuming a false ranking between their categories.\n",
    "# 3. Renaming:\n",
    "#    - Action: Several columns will be renamed for simplicity and clarity."
   ]
  },
  {
   "cell_type": "code",
   "execution_count": 73,
   "id": "1c53d20e-1e3b-4fd6-8584-1b92ce45ae53",
   "metadata": {},
   "outputs": [
    {
     "name": "stdout",
     "output_type": "stream",
     "text": [
      "New value counts for the 'SEX' column:\n",
      "SEX\n",
      "1    18112\n",
      "0    11888\n",
      "Name: count, dtype: int64\n"
     ]
    }
   ],
   "source": [
    "# Step 1: Map the 'SEX' column to binary (0/1)\n",
    "df['SEX'] = df['SEX'].map({1:0, 2:1})\n",
    "\n",
    "print(\"New value counts for the 'SEX' column:\")\n",
    "print(df['SEX'].value_counts())"
   ]
  },
  {
   "cell_type": "code",
   "execution_count": 75,
   "id": "5069cf6e-8c2b-477f-801f-822ec8853676",
   "metadata": {},
   "outputs": [
    {
     "name": "stdout",
     "output_type": "stream",
     "text": [
      "Columns have been renamed. Here are the first 5 rows:\n",
      "   ID  LIMIT_BAL  FEMALE  EDUCATION  MARRIAGE  AGE  PAY_1  PAY_2  PAY_3  \\\n",
      "0   1      20000       1          2         1   24      2      2     -1   \n",
      "1   2     120000       1          2         2   26     -1      2      0   \n",
      "2   3      90000       1          2         2   34      0      0      0   \n",
      "3   4      50000       1          2         1   37      0      0      0   \n",
      "4   5      50000       0          2         1   57     -1      0     -1   \n",
      "\n",
      "   PAY_4  ...  BILL_AMT4  BILL_AMT5  BILL_AMT6  PAY_AMT1  PAY_AMT2  PAY_AMT3  \\\n",
      "0     -1  ...          0          0          0         0       689         0   \n",
      "1      0  ...       3272       3455       3261         0      1000      1000   \n",
      "2      0  ...      14331      14948      15549      1518      1500      1000   \n",
      "3      0  ...      28314      28959      29547      2000      2019      1200   \n",
      "4      0  ...      20940      19146      19131      2000     36681     10000   \n",
      "\n",
      "   PAY_AMT4  PAY_AMT5  PAY_AMT6  default  \n",
      "0         0         0         0        1  \n",
      "1      1000         0      2000        1  \n",
      "2      1000      1000      5000        0  \n",
      "3      1100      1069      1000        0  \n",
      "4      9000       689       679        0  \n",
      "\n",
      "[5 rows x 25 columns]\n"
     ]
    }
   ],
   "source": [
    "# Rename columns for clarity and simplicity\n",
    "df.rename(columns={'SEX': 'FEMALE', 'default payment next month': 'default'}, inplace=True)\n",
    "\n",
    "print(\"Columns have been renamed. Here are the first 5 rows:\")\n",
    "print(df.head())"
   ]
  },
  {
   "cell_type": "code",
   "execution_count": 77,
   "id": "a560d872-7149-4ac2-9e06-54e14a55b56f",
   "metadata": {},
   "outputs": [],
   "source": [
    "#Note: Use pd.get_dummies() because the scikit-learn library, which we are\n",
    "# using for our Random Forest model, requires all input features to be numerical.\n",
    "# This function handles the one-hot encoding for our 'EDUCATION' and 'MARRIAGE'\n",
    "# columns, converting them into a numerical format the model can use."
   ]
  },
  {
   "cell_type": "code",
   "execution_count": 79,
   "id": "cf5ae857-8d04-4437-be80-fed15cb6ffef",
   "metadata": {},
   "outputs": [
    {
     "name": "stdout",
     "output_type": "stream",
     "text": [
      "Data after one-hot encoding:\n",
      "   ID  LIMIT_BAL  FEMALE  AGE  PAY_1  PAY_2  PAY_3  PAY_4  PAY_5  PAY_6  ...  \\\n",
      "0   1      20000       1   24      2      2     -1     -1     -2     -2  ...   \n",
      "1   2     120000       1   26     -1      2      0      0      0      2  ...   \n",
      "2   3      90000       1   34      0      0      0      0      0      0  ...   \n",
      "3   4      50000       1   37      0      0      0      0      0      0  ...   \n",
      "4   5      50000       0   57     -1      0     -1      0      0      0  ...   \n",
      "\n",
      "   default  EDU_1  EDU_2  EDU_3  EDU_4  EDU_5  EDU_6  MAR_1  MAR_2  MAR_3  \n",
      "0        1  False   True  False  False  False  False   True  False  False  \n",
      "1        1  False   True  False  False  False  False  False   True  False  \n",
      "2        0  False   True  False  False  False  False  False   True  False  \n",
      "3        0  False   True  False  False  False  False   True  False  False  \n",
      "4        0  False   True  False  False  False  False   True  False  False  \n",
      "\n",
      "[5 rows x 32 columns]\n"
     ]
    }
   ],
   "source": [
    "df.rename(columns={'EDUCATION': 'EDU', 'MARRIAGE': 'MAR'}, inplace=True)\n",
    "\n",
    "#Apply one-hot encoding\n",
    "df = pd.get_dummies(df, columns=['EDU', 'MAR'], drop_first=True)\n",
    "\n",
    "# Display the head and info to see the new columns\n",
    "print(\"Data after one-hot encoding:\")\n",
    "print(df.head())"
   ]
  },
  {
   "cell_type": "code",
   "execution_count": 81,
   "id": "a180b035-7c56-4aea-8039-939c319078a3",
   "metadata": {},
   "outputs": [],
   "source": [
    "# The original 'EDU' and 'MAR' columns have been removed.\n",
    "# Machine learning models require all input to be numerical.\n",
    "# A column like 'EDUCATION' uses numbers (1, 2, 3, etc.), but these are just codes\n",
    "# for categories (graduate school, university, high school). If we feed these\n",
    "# numbers directly to the model, it might learn a false and meaningless ranking,\n",
    "# mistakenly thinking that 'high school' (3) is 'greater than' 'graduate school' (1).\n",
    "#\n",
    "# To fix this, we use one-hot encoding. This converts the single\n",
    "# categorical column into multiple new binary (0/1) columns. Each new column\n",
    "# acts like a \"Yes/No\" question (e.g., \"Is the education level 'university'?\").\n",
    "#\n",
    "# We use pd.get_dummies() because the scikit-learn library requires\n",
    "# this numerical format."
   ]
  },
  {
   "cell_type": "code",
   "execution_count": 91,
   "id": "5de86886-64ad-4686-b6fb-e5c23cce2ef1",
   "metadata": {},
   "outputs": [],
   "source": [
    "# We will test four related, tree-based models:\n",
    "# 1. Decision Tree: The simplest model and our starting point.\n",
    "# 2. Bagging: An \"ensemble\" method that trains many Decision Trees on random\n",
    "#    data samples and uses a majority vote to improve stability.\n",
    "# 3. Random Forest: An enhancement of Bagging that adds more randomness,\n",
    "#    often leading to better performance.\n",
    "# 4. Extra Trees: A variation of Random Forest that uses even more randomness."
   ]
  },
  {
   "cell_type": "code",
   "execution_count": 87,
   "id": "37e5778b-7603-4f61-822e-cdc1ee270fd3",
   "metadata": {},
   "outputs": [
    {
     "name": "stdout",
     "output_type": "stream",
     "text": [
      "Setup complete. Data is split and models are ready to be trained.\n"
     ]
    }
   ],
   "source": [
    "from sklearn.tree import DecisionTreeClassifier\n",
    "from sklearn.ensemble import RandomForestClassifier, ExtraTreesClassifier, BaggingClassifier\n",
    "from sklearn.metrics import classification_report\n",
    "from sklearn.model_selection import train_test_split\n",
    "\n",
    "# Separate the data into features (X) and the target variable (y)\n",
    "# 'X' will contain all columns except our target, 'default'\n",
    "X = df.drop(columns=['default'])\n",
    "# 'y' will contain only the 'default' column\n",
    "y = df['default']\n",
    "\n",
    "# Split the data into training and testing sets\n",
    "# 70% of the data will be used for training, 30% for testing\n",
    "X_train, X_test, y_train, y_test = train_test_split(X, y, test_size=0.3, random_state=1738)\n",
    "\n",
    "# Create an instance of each of the four models we will test as a baseline\n",
    "dt = DecisionTreeClassifier()\n",
    "bag = BaggingClassifier()\n",
    "rf = RandomForestClassifier()\n",
    "et = ExtraTreesClassifier()\n",
    "\n",
    "print(\"Setup complete. Data is split and models are ready to be trained.\")"
   ]
  },
  {
   "cell_type": "code",
   "execution_count": null,
   "id": "a60d8d4a-d1c8-47ee-a695-ff4348148447",
   "metadata": {},
   "outputs": [],
   "source": [
    "# For each model, we will look at the classification_report. Our primary goal is to\n",
    "# see which model gives the best 'recall' score for class 1 (defaults), as finding\n",
    "# actual defaults is our main objective."
   ]
  },
  {
   "cell_type": "code",
   "execution_count": 93,
   "id": "a002fc6e-9c9a-47e5-acb1-2c9dba35539f",
   "metadata": {},
   "outputs": [
    {
     "name": "stdout",
     "output_type": "stream",
     "text": [
      "\n",
      "--- Decision Tree Performance ---\n",
      "              precision    recall  f1-score   support\n",
      "\n",
      "           0       0.83      0.81      0.82      7042\n",
      "           1       0.37      0.39      0.38      1958\n",
      "\n",
      "    accuracy                           0.72      9000\n",
      "   macro avg       0.60      0.60      0.60      9000\n",
      "weighted avg       0.73      0.72      0.73      9000\n",
      "\n",
      "\n",
      "--- Bagging Classifier Performance ---\n",
      "              precision    recall  f1-score   support\n",
      "\n",
      "           0       0.83      0.94      0.88      7042\n",
      "           1       0.59      0.32      0.42      1958\n",
      "\n",
      "    accuracy                           0.80      9000\n",
      "   macro avg       0.71      0.63      0.65      9000\n",
      "weighted avg       0.78      0.80      0.78      9000\n",
      "\n",
      "\n",
      "--- Random Forest Performance ---\n",
      "              precision    recall  f1-score   support\n",
      "\n",
      "           0       0.84      0.95      0.89      7042\n",
      "           1       0.64      0.35      0.45      1958\n",
      "\n",
      "    accuracy                           0.82      9000\n",
      "   macro avg       0.74      0.65      0.67      9000\n",
      "weighted avg       0.80      0.82      0.79      9000\n",
      "\n",
      "\n",
      "--- Extra Trees Performance ---\n",
      "              precision    recall  f1-score   support\n",
      "\n",
      "           0       0.84      0.94      0.89      7042\n",
      "           1       0.62      0.36      0.45      1958\n",
      "\n",
      "    accuracy                           0.81      9000\n",
      "   macro avg       0.73      0.65      0.67      9000\n",
      "weighted avg       0.79      0.81      0.79      9000\n",
      "\n"
     ]
    }
   ],
   "source": [
    "# NOTE: Baseline Model 1 - Decision Tree\n",
    "# ----------------------------------------\n",
    "# This is our first and simplest model, which will serve as our baseline.\n",
    "#\n",
    "# What it is: A Decision Tree is a model that makes predictions by asking\n",
    "# a series of \"yes/no\" questions about the data's features, creating a\n",
    "# flowchart of decisions.\n",
    "#\n",
    "# Why we use it: We are using it to get an initial performance score. While\n",
    "# simple to understand, single decision trees are prone to \"overfitting\"\n",
    "# (learning the training data too well) and may not perform well on new data.\n",
    "# Our goal is to improve upon this baseline score with more advanced models.\n",
    "\n",
    "dt.fit(X_train, y_train)\n",
    "\n",
    "print(\"\\n--- Decision Tree Performance ---\")\n",
    "print(classification_report(y_test, dt.predict(X_test)))\n",
    "\n",
    "# NOTE: Baseline Model 2 - Bagging Classifier\n",
    "# ---------------------------------------------\n",
    "# \"Bagging\" stands for Bootstrap Aggregating. It's an ensemble method, meaning\n",
    "# it combines multiple models to get a better result.\n",
    "#\n",
    "# What it is: Instead of training just one Decision Tree, Bagging trains MANY\n",
    "# Decision Trees on different random samples of the training data. To make a\n",
    "# prediction, it takes a majority vote from all the trees.\n",
    "#\n",
    "# Why we use it: This process helps to reduce the overfitting of a single\n",
    "# Decision Tree. By averaging the votes of many trees, the errors and biases\n",
    "# of individual trees tend to cancel each other out, leading to a more stable\n",
    "# and accurate model.\n",
    "\n",
    "bag.fit(X_train, y_train)\n",
    "\n",
    "print(\"\\n--- Bagging Classifier Performance ---\")\n",
    "print(classification_report(y_test, bag.predict(X_test)))\n",
    "\n",
    "# NOTE: Baseline Model 3 - Random Forest\n",
    "# ----------------------------------------\n",
    "# Random Forest is another ensemble method and a popular enhancement of Bagging.\n",
    "#\n",
    "# What it is: Like Bagging, it trains many Decision Trees on random samples of\n",
    "# the data. However, it adds another layer of randomness: when building each\n",
    "# tree, it only considers a random subset of *features* at each split point.\n",
    "#\n",
    "# Why we use it: This extra randomness forces the trees to be more diverse and\n",
    "# prevents them all from relying on the same one or two powerful features. This\n",
    "# often leads to a more robust and accurate model than a standard Bagging classifier.\n",
    "\n",
    "rf.fit(X_train, y_train)\n",
    "\n",
    "print(\"\\n--- Random Forest Performance ---\")\n",
    "print(classification_report(y_test, rf.predict(X_test)))\n",
    "\n",
    "# NOTE: Baseline Model 4 - Extra Trees\n",
    "# --------------------------------------\n",
    "# \"Extra\" stands for Extremely Randomized. This is a variation of Random Forest.\n",
    "#\n",
    "# What it is: It's like a Random Forest, but with even *more* randomness. In\n",
    "# addition to selecting a random subset of features at each split, it also\n",
    "# tests a set of random thresholds to make the split, instead of finding the\n",
    "# absolute best one.\n",
    "#\n",
    "# Why we use it: This extreme randomness can sometimes lead to a slightly\n",
    "# better model and is often faster to train. We test it to see if this\n",
    "# different approach works better for our specific dataset.\n",
    "\n",
    "et.fit(X_train, y_train)\n",
    "\n",
    "print(\"\\n--- Extra Trees Performance ---\")\n",
    "print(classification_report(y_test, et.predict(X_test)))"
   ]
  },
  {
   "cell_type": "code",
   "execution_count": 95,
   "id": "b49af453-c7bd-42f8-9552-543cfa630be7",
   "metadata": {},
   "outputs": [],
   "source": [
    "# NOTE: Understanding the Performance Report\n",
    "# -----------------------------------------\n",
    "# The `classification_report` gives us a detailed look at the model's performance,\n",
    "# which is much more useful than simple accuracy on imbalanced data. Here is what\n",
    "# the key metrics for the 'default' class (1) mean:\n",
    "#\n",
    "# - Precision: Of all the customers the model PREDICTED would default, what\n",
    "#   percentage actually did? (This measures the quality of the positive predictions).\n",
    "#\n",
    "# - Recall: Of all the customers that ACTUALLY defaulted, what percentage did\n",
    "#   our model successfully find? (This measures the completeness of the predictions).\n",
    "#   **This is our most important metric for this project.**\n",
    "#\n",
    "# - F1-score: The balanced average of Precision and Recall. It's a good\n",
    "#   overall measure if you care about both metrics equally.\n",
    "#\n",
    "# - Support: This is simply the number of actual examples of that class in the\n",
    "#   test data. For class 1, it's the total number of actual defaults in the test set."
   ]
  },
  {
   "cell_type": "code",
   "execution_count": 97,
   "id": "fabfbde4-c90c-4d5d-b38b-f2145714d38d",
   "metadata": {},
   "outputs": [],
   "source": [
    "# NOTE: Analyzing the Baseline Results\n",
    "# ------------------------------------\n",
    "# This note explains the performance report using the Random Forest model as a\n",
    "# specific example. Our main goal is to improve the 'recall' for class 1.\n",
    "#\n",
    "# Support:\n",
    "# - What it is: The number of actual examples of a class in the test data.\n",
    "# - Our Result: The support for class 1 is 1958. This means there\n",
    "#   were 1,958 actual defaulters in our test set.\n",
    "#\n",
    "# Recall:\n",
    "# - What it is: Of all the customers that ACTUALLY defaulted, what percentage\n",
    "#   did our model successfully find?\n",
    "# - Our Result: The recall for class 1 is 0.35 (or 35%). This means\n",
    "#   our model only found 35% of the 1,958 actual defaulters, missing the other 65%.\n",
    "#   **This is our most important metric to improve.**\n",
    "#\n",
    "# Precision:\n",
    "# - What it is: Of all the customers the model PREDICTED would default, what\n",
    "#   percentage were correct?\n",
    "# - Our Result: The precision for class 1 is 0.64 (or 64%). This means\n",
    "#   when the model predicted a default, it was right 64% of the time.\n",
    "#\n",
    "# F1-Score:\n",
    "# - What it is: The balanced average of Precision and Recall.\n",
    "# - Our Result: The F1-score of 0.45 reflects the trade-off between our\n",
    "#   higher precision and lower recall."
   ]
  },
  {
   "cell_type": "code",
   "execution_count": 99,
   "id": "8f388b87-2c55-4fc5-a144-4eb050e91b17",
   "metadata": {},
   "outputs": [],
   "source": [
    "# NOTE: Hyperparameter Tuning the Random Forest Model\n",
    "# ---------------------------------------------------\n",
    "# **Why this model?**\n",
    "# Although the single Decision Tree had a slightly higher baseline recall, we are\n",
    "# choosing to tune the Random Forest model. This is because Random Forest is an\n",
    "# \"ensemble\" method that is much more stable and reliable. Its performance is\n",
    "# less likely to be a fluke, so the improvements we make during tuning are more\n",
    "# trustworthy for predicting future data.\n",
    "#\n",
    "# **What we are doing:**\n",
    "# We are now performing \"hyperparameter tuning.\" This is the process of\n",
    "# systematically trying different settings for the model to find the combination\n",
    "# that gives the best performance. Our goal is to find the settings that\n",
    "# maximize the 'recall' score for the default class.\n"
   ]
  },
  {
   "cell_type": "code",
   "execution_count": 101,
   "id": "f56ebb5b-ccb5-403b-a736-7f45f6953bae",
   "metadata": {},
   "outputs": [
    {
     "name": "stdout",
     "output_type": "stream",
     "text": [
      "     recall trees     crit\n",
      "0  0.365679     5     gini\n",
      "1  0.318693    10     gini\n",
      "2  0.333504    20     gini\n",
      "3  0.350868    50     gini\n",
      "4  0.350868   100     gini\n",
      "5  0.364147     5  entropy\n",
      "6  0.321757    10  entropy\n",
      "7  0.331971    20  entropy\n",
      "8  0.341164    50  entropy\n",
      "9  0.342697   100  entropy\n"
     ]
    }
   ],
   "source": [
    "# This first step is a broad search across two key settings:\n",
    "# - criterion: The method for splitting the data ('gini' or 'entropy').\n",
    "# - n_estimators: The number of trees in the forest.\n",
    "\n",
    "from sklearn.metrics import recall_score\n",
    "\n",
    "# Create a dictionary to store the results\n",
    "scores = {}\n",
    "i = 0\n",
    "\n",
    "# Loop through each criterion and number of estimators\n",
    "for c in ['gini', 'entropy']:\n",
    "    for e in [5,10,20,50,100]:\n",
    "        # Create and train the model with the current settings\n",
    "        rf_tune = RandomForestClassifier(n_estimators=e, criterion=c, random_state=1738)\n",
    "        rf_tune.fit(X_train, y_train)\n",
    "\n",
    "        # Calculate the recall score and store it\n",
    "        scores[i] = {'recall':recall_score(y_test, rf_tune.predict(X_test)), 'trees':e, 'crit':c}\n",
    "        i+=1\n",
    "\n",
    "# Convert the results dictionary to a DataFrame for easy viewing\n",
    "df_scores = pd.DataFrame(scores).T\n",
    "print(df_scores)"
   ]
  },
  {
   "cell_type": "code",
   "execution_count": 103,
   "id": "97efb9c5-d150-4152-bb72-2fb1f6bbce76",
   "metadata": {},
   "outputs": [],
   "source": [
    "# NOTE: Analyzing the Results\n",
    "# ----------------------------------------\n",
    "# The table above shows the 'recall' score for each combination of settings we tested.\n",
    "# Our goal is to find the row with the highest recall for our default class.\n",
    "#\n",
    "# Key Findings:\n",
    "# - The best recall score (0.365679) was achieved using the 'gini' criterion\n",
    "#   with only 5 trees.\n",
    "# - Across both 'gini' and 'entropy', performance generally decreased as the number\n",
    "#   of trees increased beyond 5.\n",
    "#\n",
    "# Conclusion: This suggests that for our dataset, a smaller, simpler forest is\n",
    "# most effective. Our next tuning step will be a more focused search on models\n",
    "# with a small number of trees, using the 'gini' criterion."
   ]
  },
  {
   "cell_type": "code",
   "execution_count": 105,
   "id": "fa77f75d-4add-429e-b4a5-f16799960a3c",
   "metadata": {},
   "outputs": [],
   "source": [
    "# NOTE: The 2nd step of Hyperparameter Tuning is a Focused Search\n",
    "# ----------------------------------------------\n",
    "# The broad search showed that our best recall came from a 'gini' model with\n",
    "# a small number of trees.\n",
    "#\n",
    "# This next step is a more focused search to see if we can find an even\n",
    "# better score within that specific range. We will now test the 'gini' model\n",
    "# with every number of trees from 1 to 8 to pinpoint the absolute best\n",
    "# 'n_estimators' value."
   ]
  },
  {
   "cell_type": "code",
   "execution_count": 107,
   "id": "830d6957-b2a5-411f-b4d6-e0147283d246",
   "metadata": {},
   "outputs": [
    {
     "name": "stdout",
     "output_type": "stream",
     "text": [
      "     recall  trees\n",
      "0  0.416241    1.0\n",
      "1  0.223698    2.0\n",
      "2  0.375894    3.0\n",
      "3  0.267109    4.0\n",
      "4  0.365679    5.0\n",
      "5  0.281920    6.0\n",
      "6  0.367722    7.0\n",
      "7  0.305414    8.0\n"
     ]
    }
   ],
   "source": [
    "# Create a second dictionary to store the new results\n",
    "scores2 = {}\n",
    "i = 0\n",
    "\n",
    "# Loop through the number of estimators from 1 to 8\n",
    "for e in range(1,9):\n",
    "    # Create and train the model with the current settings\n",
    "    rf_tune2 = RandomForestClassifier(n_estimators=e, criterion='gini', random_state=1738)\n",
    "    rf_tune2.fit(X_train, y_train)\n",
    "\n",
    "    # Calculate the recall score and store it\n",
    "    scores2[i] = {'recall':recall_score(y_test, rf_tune2.predict(X_test)), 'trees':e}\n",
    "    i+=1\n",
    "\n",
    "# Convert the results to a DataFrame\n",
    "df_scores2 = pd.DataFrame(scores2).T\n",
    "print(df_scores2)"
   ]
  },
  {
   "cell_type": "code",
   "execution_count": 109,
   "id": "7d3052bb-dc3d-49c2-a20f-8750ea454224",
   "metadata": {},
   "outputs": [],
   "source": [
    "# NOTE: Final Tuning Results and Analysis\n",
    "# The table from our focused search shows the recall score for a 'gini' model\n",
    "# with the number of trees ranging from 1 to 8.\n",
    "#\n",
    "# The Finding:\n",
    "# The results show that the highest recall score (approximately 0.416) was\n",
    "# achieved with just 1 tree.\n",
    "#\n",
    "# The Interpretation:\n",
    "# This is a surprising and important finding. It suggests that for this specific\n",
    "# data split, a very simple model (a single Decision Tree) is the most\n",
    "# effective at achieving our specific goal of maximizing recall. This highlights\n",
    "# that more complex models are not always the best for every task.\n",
    "#\n",
    "# Our final, tuned model is a RandomForestClassifier with n_estimators=1."
   ]
  },
  {
   "cell_type": "code",
   "execution_count": null,
   "id": "41c030ae-3d5f-45ac-ae53-73e6b1d38d88",
   "metadata": {},
   "outputs": [],
   "source": [
    "# FINAL NOTE on Hyperparameter Tuning:\n",
    "# ------------------------------------\n",
    "# While our tuning process identified a model with the best recall on our\n",
    "# test set, it's important to be aware of the risk of \"overfitting to the\n",
    "# test set.\" By repeatedly testing different settings against the same test\n",
    "# data, we may have found a model that is specifically good at predicting\n",
    "# that data, but not necessarily better in a general sense.\n"
   ]
  }
 ],
 "metadata": {
  "kernelspec": {
   "display_name": "Python 3 (ipykernel)",
   "language": "python",
   "name": "python3"
  },
  "language_info": {
   "codemirror_mode": {
    "name": "ipython",
    "version": 3
   },
   "file_extension": ".py",
   "mimetype": "text/x-python",
   "name": "python",
   "nbconvert_exporter": "python",
   "pygments_lexer": "ipython3",
   "version": "3.11.7"
  }
 },
 "nbformat": 4,
 "nbformat_minor": 5
}
